{
 "cells": [
  {
   "cell_type": "code",
   "execution_count": null,
   "metadata": {
    "cell_id": "00000-860b921c-e54f-40b8-929e-11b033eeb871",
    "tags": []
   },
   "outputs": [],
   "source": [
    "# Partners: Matthew Hawes, Max Li, Jim Zhang\n",
    "# Coder: Max Li, Matthew Hawes\n",
    "# Listener: Jim Zhang\n",
    "\n",
    "# f(x,y)=exp(−(sin(x)−cos(y))^2)\n",
    "# Draw the computational graph for the function.\n",
    "# Create the evaluation trace for this function\n",
    "# Use the graph / trace to evaluate f(π/2,π/3)\n",
    "# Compute ∂f∂x(π/2,π/3) and ∂f∂y(π/2,π/3) using the forward mode of AD\n",
    "\n"
   ]
  },
  {
   "cell_type": "markdown",
   "metadata": {
    "cell_id": "00001-ce467b3d-4301-42c8-a492-1de11c9fc0d1",
    "tags": []
   },
   "source": [
    "## Exercise 1.1:"
   ]
  },
  {
   "cell_type": "markdown",
   "metadata": {
    "cell_id": "00001-32c64e32-6db9-421e-b494-332a8db23632",
    "tags": []
   },
   "source": [
    "![Exercise 1.1](PP6_1.1.jpg \"Computational Graph\")"
   ]
  },
  {
   "cell_type": "markdown",
   "metadata": {
    "cell_id": "00003-b89d414e-6747-4c0d-9506-b202ca6faf72",
    "tags": []
   },
   "source": [
    "## Exercise 1.2-1.4:"
   ]
  },
  {
   "cell_type": "markdown",
   "metadata": {
    "cell_id": "00004-4ca02b31-7bca-4201-8473-cca374688e39",
    "tags": []
   },
   "source": [
    "| trace   | elem op.      | value    | elem der.               | $\\nabla_{x}$ | $\\nabla_{y}$  |\n",
    "| :---:   | :-----------: | :-------:  | :-------------:       | :----------: | :-----------: |\n",
    "| $x_{1}$ | $x_{1}$       | $\\frac{\\pi}{2}$   | $\\dot{x}_{1}$           | $1$         | $0$          |\n",
    "| $y_{1}$ | $y_{1}$       | $\\frac{\\pi}{3}$   | $\\dot{y}_{1}$           | $0$         | $1$          |\n",
    "| $v_{1}$ | $sin(x_{1})$  | $1$    | $cos(x_{1})\\dot{x}_{1}$ | $0$         | $0$          |\n",
    "| $v_{2}$ | $cos(y_{1})$  | $0.5$  | $-sin(y_{1})\\dot{y}_{1}$| $0$         | $-0.866$         |\n",
    "| $v_{3}$ | $v_{1}-v_{2}$ | $0.5$ | $\\dot{v}_{1}-\\dot{v}_{2}$| $0$        | $0.866$          |\n",
    "| $v_{4}$ | $v_{3}^2$     | $0.25$ | $2v_{3}\\dot{v}_{3}$     | $0$         | $0.866$          |\n",
    "| $v_{5}$ | $-v_{4}$      | $-0.25$| $-\\dot{v}_{4}$           | $0$         | $-0.866$         |\n",
    "| $v_{6}$ | $exp(v_{5})$  | $0.779$| $exp(v_{5})\\dot{v}_{5}$ | $0$         | $-0.6746$        |\n",
    "| $f$     | $v_{6}$       | $0.779$| $\\dot{v}_{6}$           | $0$         | $-0.6746$        |"
   ]
  },
  {
   "cell_type": "markdown",
   "metadata": {
    "cell_id": "00005-609b05a6-7f26-4eaa-93cf-986c46e16a48",
    "tags": []
   },
   "source": [
    "As shown by the table above, $\\dfrac{\\partial f}{\\partial x}\\left(\\dfrac{\\pi}{2}, \\dfrac{\\pi}{3}\\right) = 0$ \n",
    "and $\\dfrac{\\partial f}{\\partial y}\\left(\\dfrac{\\pi}{2}, \\dfrac{\\pi}{3}\\right) = -0.6746$ "
   ]
  },
  {
   "cell_type": "markdown",
   "metadata": {
    "cell_id": "00005-3bb6c760-7c56-4b3a-9cf7-d33f5cf82f35",
    "tags": []
   },
   "source": [
    "## Exercise 2:"
   ]
  },
  {
   "cell_type": "markdown",
   "metadata": {
    "cell_id": "00005-90d3c6c5-1b29-4b36-a008-3601f7092601",
    "tags": []
   },
   "source": [
    "| trace   | elem op.      | value    | elem der.               | $\\nabla_{x}$ | $\\nabla_{y}$  |\n",
    "| :---:   | :-----------: | :-------:  | :-------------:       | :----------: | :-----------: |\n",
    "| $x_{1}$ | $x_{1}$       | $1$   | $\\dot{x}_{1}$           | $1$         | $0$          |\n",
    "| $x_{2}$ | $x_{2}$       | $1$   | $\\dot{x}_{2}$           | $1$         | $0$          |\n",
    "| $y_{1}$ | $y_{1}$       | $1$   | $\\dot{y}_{1}$           | $0$         | $1$          |\n",
    "| $y_{2}$ | $y_{2}$       | $1$   | $\\dot{y}_{2}$           | $0$         | $1$          |\n",
    "| $v_{1}$ | $x_{1}^2$     | $1$   | $2x_{1}\\dot{x}_{1}$ | $2$         | $0$          |\n",
    "| $v_{2}$ | $y_{1}^2$     | $1$   | $2y_{1}\\dot{y}_{1}$ | $0$         | $2$          |\n",
    "| $v_{3}$ | $v_{1}+v_{2}$ | $2$   | $\\dot{v}_{1}+\\dot{v}_{2}$| $2$    | $2$          |\n",
    "| $v_{4}$ | $x_{2}+y_{2}$ | $2$  | $\\dot{x}_{2}+\\dot{y}_{2}$ | $1$    | $1$          |\n",
    "| $v_{5}$ | $exp(v_{4})$  | $7.389$ | $exp(v_{4})\\dot{v}_{4}$| $7.389$| $7.389$      |\n",
    "| $f_{1}$ | $v_{3}$       | $2$ | $\\dot{v}_{3}$              | $2$    | $2$          |\n",
    "| $f_{2}$ | $v_{5}$       | $7.389$ | $\\dot{v}_{5}$          | $7.389$| $7.389$      |"
   ]
  },
  {
   "cell_type": "markdown",
   "metadata": {
    "cell_id": "00005-c96f916a-b9cb-4cb2-ac03-c526ebe6565b",
    "tags": []
   },
   "source": []
  }
 ],
 "metadata": {
  "deepnote_execution_queue": [],
  "deepnote_notebook_id": "f8e937cb-7d52-4b3a-a705-1ac09c1e8b29",
  "kernelspec": {
   "display_name": "Python 3",
   "language": "python",
   "name": "python3"
  },
  "language_info": {
   "codemirror_mode": {
    "name": "ipython",
    "version": 3
   },
   "file_extension": ".py",
   "mimetype": "text/x-python",
   "name": "python",
   "nbconvert_exporter": "python",
   "pygments_lexer": "ipython3",
   "version": "3.7.4"
  }
 },
 "nbformat": 4,
 "nbformat_minor": 2
}
